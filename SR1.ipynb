{
 "cells": [
  {
   "cell_type": "markdown",
   "id": "9e84b4c6-77ec-4d0d-83d7-c8d56928f7eb",
   "metadata": {},
   "source": [
    "# 15. Поняття функції. Створення і виклик функції. Декоратор функції. \n",
    "## Самостійна робота з дисципліни \"Програмування Python\" \n",
    "### Кічак Богдан Володимирович КН22004бск "
   ]
  },
  {
   "cell_type": "code",
   "execution_count": null,
   "id": "e645fe54-d1c8-441d-99fb-fb22213efee1",
   "metadata": {},
   "outputs": [],
   "source": []
  }
 ],
 "metadata": {
  "kernelspec": {
   "display_name": "Python 3 (ipykernel)",
   "language": "python",
   "name": "python3"
  },
  "language_info": {
   "codemirror_mode": {
    "name": "ipython",
    "version": 3
   },
   "file_extension": ".py",
   "mimetype": "text/x-python",
   "name": "python",
   "nbconvert_exporter": "python",
   "pygments_lexer": "ipython3",
   "version": "3.11.6"
  }
 },
 "nbformat": 4,
 "nbformat_minor": 5
}
