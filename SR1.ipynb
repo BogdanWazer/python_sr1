{
 "cells": [
  {
   "cell_type": "markdown",
   "id": "9e84b4c6-77ec-4d0d-83d7-c8d56928f7eb",
   "metadata": {},
   "source": [
    "# 15. Поняття функції. Створення і виклик функції. Декоратор функції. \n",
    "## Самостійна робота з дисципліни \"Програмування Python\" \n",
    "### Кічак Богдан Володимирович КН22004бск "
   ]
  },
  {
   "cell_type": "markdown",
   "id": "e645fe54-d1c8-441d-99fb-fb22213efee1",
   "metadata": {},
   "source": [
    "#### Функція — це блок коду, який виконується лише тоді, коли його викликають. Ви можете передавати дані, відомі як параметри, у функцію. У результаті функція може повертати дані.\n",
    "\n",
    "Приклад функції:"
   ]
  },
  {
   "cell_type": "code",
   "execution_count": 21,
   "metadata": {},
   "outputs": [
    {
     "name": "stdout",
     "output_type": "stream",
     "text": [
      "Hello from a function\n"
     ]
    }
   ],
   "source": [
    "def my_function():\n",
    "  print(\"Hello from a function\")\n",
    "my_function()"
   ]
  },
  {
   "cell_type": "markdown",
   "metadata": {},
   "source": [
    "### Аргументи функції\n",
    "\n",
    "Інформацію в функцію можна передати як аргументи.\n",
    "\n",
    "Аргументи вказуються після назви функції в круглих дужках. Ви можете додати скільки завгодно аргументів, просто розділіть їх комою.\n",
    "\n",
    "У наступному прикладі є функція з одним аргументом (fname). Під час виклику функції ми передаємо ім’я, яке використовується всередині функції для друку повного імені:"
   ]
  },
  {
   "cell_type": "code",
   "execution_count": 22,
   "metadata": {},
   "outputs": [
    {
     "name": "stdout",
     "output_type": "stream",
     "text": [
      "Mac OS\n",
      "Linux OS\n",
      "Windows OS\n"
     ]
    }
   ],
   "source": [
    "def my_function(fname):\n",
    "  print(fname + \" OS\")\n",
    "\n",
    "my_function(\"Mac\")\n",
    "my_function(\"Linux\")\n",
    "my_function(\"Windows\")"
   ]
  },
  {
   "cell_type": "markdown",
   "metadata": {},
   "source": [
    "## Функція з більшою кількістю аргументів\n",
    "За замовчуванням функція має бути викликана з правильною кількістю аргументів. Це означає, що якщо ваша функція очікує 2 аргументи, ви повинні викликати функцію з 2 аргументами, не більше і не менше."
   ]
  },
  {
   "cell_type": "code",
   "execution_count": 23,
   "metadata": {},
   "outputs": [
    {
     "name": "stdout",
     "output_type": "stream",
     "text": [
      "Emil Refsnes\n"
     ]
    }
   ],
   "source": [
    "def my_function(fname, lname):\n",
    "  print(fname + \" \" + lname)\n",
    "\n",
    "my_function(\"Emil\", \"Refsnes\")"
   ]
  },
  {
   "cell_type": "markdown",
   "metadata": {},
   "source": [
    "## Функція з довільною кількістю аргументів\n",
    "Якщо під час розробки невідомо, скільки аргументів буде передано у вашу функцію, додайте * перед назвою параметра у визначенні функції.\n",
    "\n",
    "Таким чином функція отримає кортеж аргументів і зможе отримати відповідний доступ до елементів:"
   ]
  },
  {
   "cell_type": "code",
   "execution_count": 24,
   "metadata": {},
   "outputs": [
    {
     "name": "stdout",
     "output_type": "stream",
     "text": [
      "The youngest child is Linus\n"
     ]
    }
   ],
   "source": [
    "def my_function(*kids):\n",
    "  print(\"The youngest child is \" + kids[2])\n",
    "\n",
    "my_function(\"Emil\", \"Tobias\", \"Linus\")"
   ]
  },
  {
   "cell_type": "markdown",
   "metadata": {},
   "source": [
    "Функція Python може повертати або не повертати значення. Якщо ми хочемо, щоб наша функція повертала певне значення для виклику функції, ми використовуємо оператор return. Наприклад,"
   ]
  },
  {
   "cell_type": "code",
   "execution_count": 25,
   "metadata": {},
   "outputs": [
    {
     "name": "stdout",
     "output_type": "stream",
     "text": [
      "Square: 9\n"
     ]
    }
   ],
   "source": [
    "# function definition\n",
    "def find_square(num):\n",
    "    result = num * num\n",
    "    return result\n",
    "\n",
    "# function call\n",
    "square = find_square(3)\n",
    "\n",
    "print('Square:',square)\n",
    "\n",
    "# Output: Square: 9\n"
   ]
  },
  {
   "cell_type": "code",
   "execution_count": 26,
   "metadata": {},
   "outputs": [
    {
     "name": "stdout",
     "output_type": "stream",
     "text": [
      "Sum:  9\n"
     ]
    }
   ],
   "source": [
    "# function that adds two numbers\n",
    "def add_numbers(num1, num2):\n",
    "    sum = num1 + num2\n",
    "    return sum\n",
    "\n",
    "# calling function with two values\n",
    "result = add_numbers(5, 4)\n",
    "\n",
    "print('Sum: ', result)\n",
    "\n",
    "# Output: Sum: 9"
   ]
  },
  {
   "cell_type": "markdown",
   "metadata": {},
   "source": [
    "У Python стандартні бібліотечні функції — це вбудовані функції, які можна використовувати безпосередньо в нашій програмі. Наприклад,\n",
    "\n",
    "- print()- друкує рядок у лапках\n",
    "- sqrt()- повертає квадратний корінь із числа\n",
    "- pow()- повертає ступінь числа\n",
    "Ці функції бібліотеки визначено всередині модуля. І щоб використовувати їх, ми повинні включити модуль у нашу програму.\n",
    "\n",
    "Наприклад, sqrt()визначається всередині mathмодуля."
   ]
  },
  {
   "cell_type": "code",
   "execution_count": 27,
   "metadata": {},
   "outputs": [
    {
     "name": "stdout",
     "output_type": "stream",
     "text": [
      "Square Root of 4 is 2.0\n",
      "2 to the power 3 is 8\n"
     ]
    }
   ],
   "source": [
    "import math\n",
    "\n",
    "# sqrt computes the square root\n",
    "square_root = math.sqrt(4)\n",
    "\n",
    "print(\"Square Root of 4 is\",square_root)\n",
    "\n",
    "# pow() comptes the power\n",
    "power = pow(2, 3)\n",
    "\n",
    "print(\"2 to the power 3 is\",power)"
   ]
  },
  {
   "cell_type": "markdown",
   "metadata": {},
   "source": [
    "У наведеному вище прикладі ми використали\n",
    "\n",
    "- math.sqrt(4)- обчислити квадратний корінь з 4\n",
    "- pow(2, 3)- обчислює ступінь числа, тобто 2 3\n",
    "\n",
    "Оскільки sqrt() визначено всередині math модуля, нам потрібно включити його в нашу програму."
   ]
  },
  {
   "cell_type": "markdown",
   "metadata": {},
   "source": [
    "## Анонімні функції\n",
    "\n",
    "Анонімна функція в Python — це функція без імені. Його можна негайно викликати або зберегти у змінній.\n",
    "\n",
    "Анонімні функції в Python також відомі як лямбда-функції.\n",
    "\n",
    "Синтаксис для створення лямбда-функції:"
   ]
  },
  {
   "cell_type": "code",
   "execution_count": 28,
   "metadata": {},
   "outputs": [],
   "source": [
    "# lambda parameter(s) : expression"
   ]
  },
  {
   "cell_type": "markdown",
   "metadata": {},
   "source": [
    "Є три значення, які визначають лямбда-функцію, як показано в синтаксисі вище:\n",
    "\n",
    "- Лямбда-функція створюється за допомогою lambdaключового слова.\n",
    "- Ключове слово супроводжується одним або кількома параметрами.\n",
    "- Нарешті, надається вираз для функції. Це частина коду, яка виконується/повертається.\n",
    "\n",
    "Параметр(и) і вираз розділені двокрапкою.\n",
    "\n",
    "Наприклад:"
   ]
  },
  {
   "cell_type": "code",
   "execution_count": 29,
   "metadata": {},
   "outputs": [
    {
     "name": "stdout",
     "output_type": "stream",
     "text": [
      "5\n"
     ]
    }
   ],
   "source": [
    "add_numbers = lambda a,b : a + b \n",
    "  \n",
    "print(add_numbers(2,3)) # 5       "
   ]
  },
  {
   "cell_type": "markdown",
   "metadata": {},
   "source": [
    "У наведеному вище коді ми створили лямбда-функцію з двома параметрами – aі b. Функція повертає суму параметрів.\n",
    "\n",
    "Тобто: lambda a,b : a + b\n",
    "\n",
    "Зауважте, що функція не має імені. Ми призначили лямбда-функцію викликаній змінній add_numbers, щоб ми могли легко викликати функцію через змінну.\n",
    "\n",
    "Без призначення лямбда-функції змінній у вас буде щось на зразок цього:"
   ]
  },
  {
   "cell_type": "code",
   "execution_count": 30,
   "metadata": {},
   "outputs": [
    {
     "name": "stdout",
     "output_type": "stream",
     "text": [
      "<function <lambda> at 0x0000027B8DF5D120>\n"
     ]
    }
   ],
   "source": [
    "print(lambda a,b : a + b)\n",
    "# <function <lambda> at 0x7f757922fb00>"
   ]
  },
  {
   "cell_type": "markdown",
   "metadata": {},
   "source": [
    "### Коли використовувати лямбда-функцію в Python\n",
    "\n",
    "Хоча ви можете використовувати як звичайні функції, так і лямбда-функції для досягнення тих самих результатів, ось кілька причин, чому ви можете вибрати лямбда-функцію:\n",
    "\n",
    "Перш за все, ви можете використовувати лямбда-функцію, коли вам потрібна функція, яка буде використана лише один раз. Це особливо корисно під час роботи з такими функціями, як map, reduce, filter."
   ]
  },
  {
   "cell_type": "code",
   "execution_count": 31,
   "metadata": {},
   "outputs": [
    {
     "name": "stdout",
     "output_type": "stream",
     "text": [
      "[2, 6, 10, 14, 18]\n"
     ]
    }
   ],
   "source": [
    "def double_number(n):\n",
    "    return n + n\n",
    "\n",
    "numbers = [1, 3, 5, 7, 9]\n",
    "\n",
    "double_result = map(double_number, numbers)\n",
    "\n",
    "print(list(double_result))"
   ]
  }
 ],
 "metadata": {
  "kernelspec": {
   "display_name": "Python 3 (ipykernel)",
   "language": "python",
   "name": "python3"
  },
  "language_info": {
   "codemirror_mode": {
    "name": "ipython",
    "version": 3
   },
   "file_extension": ".py",
   "mimetype": "text/x-python",
   "name": "python",
   "nbconvert_exporter": "python",
   "pygments_lexer": "ipython3",
   "version": "3.12.0"
  }
 },
 "nbformat": 4,
 "nbformat_minor": 5
}
